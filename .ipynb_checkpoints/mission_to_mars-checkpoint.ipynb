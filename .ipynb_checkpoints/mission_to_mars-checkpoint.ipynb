{
 "cells": [
  {
   "cell_type": "code",
   "execution_count": 1,
   "metadata": {},
   "outputs": [],
   "source": [
    "from bs4 import BeautifulSoup as bs\n",
    "import requests\n",
    "from splinter import Browser\n",
    "import time\n",
    "import pandas as pd"
   ]
  },
  {
   "cell_type": "code",
   "execution_count": 2,
   "metadata": {},
   "outputs": [],
   "source": [
    "news_url = \"https://mars.nasa.gov/news/\""
   ]
  },
  {
   "cell_type": "code",
   "execution_count": 3,
   "metadata": {},
   "outputs": [],
   "source": [
    "response = requests.get(news_url)"
   ]
  },
  {
   "cell_type": "code",
   "execution_count": 4,
   "metadata": {},
   "outputs": [],
   "source": [
    "soup = bs(response.text, \"html.parser\")"
   ]
  },
  {
   "cell_type": "code",
   "execution_count": 5,
   "metadata": {},
   "outputs": [
    {
     "name": "stdout",
     "output_type": "stream",
     "text": [
      "\n",
      "\n",
      "Opportunity Hunkers Down During Dust Storm\n",
      "\n",
      "\n"
     ]
    }
   ],
   "source": [
    "news_title = soup.find(\"div\", class_=\"content_title\").text\n",
    "print(news_title)"
   ]
  },
  {
   "cell_type": "code",
   "execution_count": 6,
   "metadata": {},
   "outputs": [
    {
     "name": "stdout",
     "output_type": "stream",
     "text": [
      "\n",
      "It's the beginning of the end for the planet-encircling dust storm on Mars. But it could still be weeks, or even months, before skies are clear enough for NASA's Opportunity rover to recharge its batteries and phone home. \n",
      "\n"
     ]
    }
   ],
   "source": [
    "news_p = soup.find(\"div\", class_=\"rollover_description_inner\").text\n",
    "print (news_p)"
   ]
  },
  {
   "cell_type": "code",
   "execution_count": 7,
   "metadata": {},
   "outputs": [],
   "source": [
    "executable_path = {'executable_path': 'chromedriver.exe'}\n",
    "browser = Browser('chrome', **executable_path, headless=False)"
   ]
  },
  {
   "cell_type": "code",
   "execution_count": 9,
   "metadata": {},
   "outputs": [
    {
     "data": {
      "text/plain": [
       "'https://www.jpl.nasa.gov/spaceimages/images/largesize/PIA19631_hires.jpg'"
      ]
     },
     "execution_count": 9,
     "metadata": {},
     "output_type": "execute_result"
    }
   ],
   "source": [
    "jpl_url = \"https://www.jpl.nasa.gov/spaceimages/?search=&category=Mars\"\n",
    "browser.visit(jpl_url)\n",
    "\n",
    "browser.click_link_by_partial_text(\"FULL IMAGE\")\n",
    "time.sleep(1)\n",
    "browser.click_link_by_partial_text(\"more info\")\n",
    "\n",
    "html = browser.html\n",
    "soup = bs(html, \"html.parser\")\n",
    "\n",
    "results = soup.find(\"article\")\n",
    "extension = results.find(\"figure\", \"lede\").a[\"href\"]\n",
    "base_url = \"https://www.jpl.nasa.gov\"\n",
    "featured_image_url = base_url + extension\n",
    "featured_image_url"
   ]
  },
  {
   "cell_type": "code",
   "execution_count": 10,
   "metadata": {},
   "outputs": [
    {
     "name": "stdout",
     "output_type": "stream",
     "text": [
      "A view of this morning’s launch of the Parker #SolarProbe launch from about 3 miles awayhttps://youtu.be/hDhIane1Rso \n"
     ]
    }
   ],
   "source": [
    "weather_url = \"https://twitter.com/marswxreport?lang=en\"\n",
    "browser.visit(weather_url)\n",
    "weather_html = browser.html\n",
    "weather_soup = bs(weather_html, \"html.parser\")\n",
    "mars_weather = weather_soup.find(\"p\", class_=\"tweet-text\").text\n",
    "print(mars_weather)"
   ]
  },
  {
   "cell_type": "code",
   "execution_count": null,
   "metadata": {},
   "outputs": [],
   "source": [
    "facts_url = \"http://space-facts.com/mars/\"\n",
    "browser.visit(facts_url)\n",
    "facts_html = browser.html\n",
    "facts_soup = bs(facts_html, \"html.parser\")\n",
    "mars_col1 = facts_soup.find_all(\"td\", class_=\"column-1\")\n",
    "mars_col2 = facts_soup.find_all(\"td\", class_=\"column-2\")\n",
    "\n",
    "attributes = []\n",
    "values = []\n",
    "\n",
    "for row in mars_col1:\n",
    "    attribute = row.text.strip()\n",
    "    attributes.append(attribute)\n",
    "    \n",
    "for row in mars_col2:\n",
    "    value = row.text.strip()\n",
    "    values.append(value)\n",
    "    \n",
    "mars_df = pd.DataFrame({\"Attribute\":attributes, \"Value\":values})\n",
    "\n",
    "mars_facts = mars_df.to_html(header=False, index=False)\n",
    "\n",
    "print(mars_facts)"
   ]
  },
  {
   "cell_type": "code",
   "execution_count": null,
   "metadata": {},
   "outputs": [],
   "source": [
    "usgs_base_url = \"https://astrogeology.usgs.gov\""
   ]
  },
  {
   "cell_type": "code",
   "execution_count": 31,
   "metadata": {},
   "outputs": [
    {
     "name": "stdout",
     "output_type": "stream",
     "text": [
      "https://astrogeology.usgs.gov/cache/images/cfa62af2557222a02478f1fcd781d445_cerberus_enhanced.tif_full.jpg\n"
     ]
    }
   ],
   "source": [
    "hemispheres_url = \"https://astrogeology.usgs.gov/search/results?q=hemisphere+enhanced&k1=target&v1=Mars\"\n",
    "browser.visit(hemispheres_url)\n",
    "\n",
    "browser.click_link_by_partial_text(\"Cerberus\")\n",
    "\n",
    "cerberus_html = browser.html\n",
    "cerberus_soup = bs(cerberus_html, \"html.parser\")\n",
    "\n",
    "cerberus_results = cerberus_soup.find(\"img\", class_=\"wide-image\")[\"src\"]\n",
    "cerberus_url = usgs_base_url + cerberus_results\n",
    "print (cerberus_url)"
   ]
  },
  {
   "cell_type": "code",
   "execution_count": 33,
   "metadata": {},
   "outputs": [
    {
     "name": "stdout",
     "output_type": "stream",
     "text": [
      "https://astrogeology.usgs.gov/cache/images/3cdd1cbf5e0813bba925c9030d13b62e_schiaparelli_enhanced.tif_full.jpg\n"
     ]
    }
   ],
   "source": [
    "browser.visit(hemispheres_url)\n",
    "\n",
    "browser.click_link_by_partial_text(\"Schiaparelli\")\n",
    "\n",
    "schiaparelli_html = browser.html\n",
    "schiaparelli_soup = bs(schiaparelli_html, \"html.parser\")\n",
    "\n",
    "schiaparelli_results = schiaparelli_soup.find(\"img\", class_=\"wide-image\")[\"src\"]\n",
    "schiaparelli_url = usgs_base_url + schiaparelli_results\n",
    "print (schiaparelli_url)"
   ]
  },
  {
   "cell_type": "code",
   "execution_count": 34,
   "metadata": {},
   "outputs": [
    {
     "name": "stdout",
     "output_type": "stream",
     "text": [
      "https://astrogeology.usgs.gov/cache/images/ae209b4e408bb6c3e67b6af38168cf28_syrtis_major_enhanced.tif_full.jpg\n"
     ]
    }
   ],
   "source": [
    "browser.visit(hemispheres_url)\n",
    "\n",
    "browser.click_link_by_partial_text(\"Syrtis\")\n",
    "\n",
    "syrtis_html = browser.html\n",
    "syrtis_soup = bs(syrtis_html, \"html.parser\")\n",
    "\n",
    "syrtis_results = syrtis_soup.find(\"img\", class_=\"wide-image\")[\"src\"]\n",
    "syrtis_url = usgs_base_url + syrtis_results\n",
    "print (syrtis_url)"
   ]
  },
  {
   "cell_type": "code",
   "execution_count": 35,
   "metadata": {},
   "outputs": [
    {
     "name": "stdout",
     "output_type": "stream",
     "text": [
      "https://astrogeology.usgs.gov/cache/images/7cf2da4bf549ed01c17f206327be4db7_valles_marineris_enhanced.tif_full.jpg\n"
     ]
    }
   ],
   "source": [
    "browser.visit(hemispheres_url)\n",
    "\n",
    "browser.click_link_by_partial_text(\"Valles\")\n",
    "\n",
    "valles_html = browser.html\n",
    "valles_soup = bs(valles_html, \"html.parser\")\n",
    "\n",
    "valles_results = valles_soup.find(\"img\", class_=\"wide-image\")[\"src\"]\n",
    "valles_url = usgs_base_url + valles_results\n",
    "print (valles_url)"
   ]
  },
  {
   "cell_type": "code",
   "execution_count": null,
   "metadata": {},
   "outputs": [],
   "source": []
  }
 ],
 "metadata": {
  "kernelspec": {
   "display_name": "Python 3",
   "language": "python",
   "name": "python3"
  },
  "language_info": {
   "codemirror_mode": {
    "name": "ipython",
    "version": 3
   },
   "file_extension": ".py",
   "mimetype": "text/x-python",
   "name": "python",
   "nbconvert_exporter": "python",
   "pygments_lexer": "ipython3",
   "version": "3.6.4"
  }
 },
 "nbformat": 4,
 "nbformat_minor": 2
}
